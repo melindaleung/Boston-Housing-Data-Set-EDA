{
 "cells": [
  {
   "cell_type": "markdown",
   "metadata": {},
   "source": [
    "# Studying One Sample\n",
    "\n",
    "This notebook will focus on one sample and compare it to the entire dataset."
   ]
  },
  {
   "cell_type": "code",
   "execution_count": 10,
   "metadata": {
    "collapsed": false
   },
   "outputs": [],
   "source": [
    "# Libraries\n",
    "library(dplyr)\n",
    "library(ggplot2)\n",
    "library(reshape2)\n",
    "library(repr)\n",
    "library(moments)\n",
    "library(gridExtra)\n",
    "set.seed(8)"
   ]
  },
  {
   "cell_type": "code",
   "execution_count": 3,
   "metadata": {
    "collapsed": true
   },
   "outputs": [],
   "source": [
    "# 00. Acquire the Data Set\n",
    "bostonURL <- url(\"https://archive.ics.uci.edu/ml/machine-learning-databases/housing/housing.data\")\n",
    "boston <- read.table(bostonURL)\n",
    "colnames(boston) <- c(\"CRIM\", \"ZN\", \"INDUS\", \"CHAS\", \"NOX\", \"RM\", \"AGE\", \"DIS\", \"RAD\", \"TAX\",\"PTRATIO\", \"B\", \"LSTAT\", \"MEDV\")"
   ]
  },
  {
   "cell_type": "code",
   "execution_count": 4,
   "metadata": {
    "collapsed": false
   },
   "outputs": [],
   "source": [
    "# Boston Data Set Statistics\n",
    "bostonStats = data.frame(feature = colnames(boston))\n",
    "bostonStats['mean'] = sapply(boston, mean)\n",
    "bostonStats['sd'] = sapply(boston, sd)\n",
    "bostonStats['skewness'] = sapply(boston, skewness)"
   ]
  },
  {
   "cell_type": "markdown",
   "metadata": {},
   "source": [
    "### Comparing Sample vs. Data Set"
   ]
  },
  {
   "cell_type": "code",
   "execution_count": 5,
   "metadata": {
    "collapsed": false
   },
   "outputs": [],
   "source": [
    "sample <- sample_n(boston, 5)"
   ]
  },
  {
   "cell_type": "code",
   "execution_count": 6,
   "metadata": {
    "collapsed": false
   },
   "outputs": [
    {
     "data": {
      "text/html": [
       "<table>\n",
       "<thead><tr><th></th><th scope=col>boston_mean</th><th scope=col>sample_mean</th><th scope=col>difference</th><th scope=col>Z_Score</th></tr></thead>\n",
       "<tbody>\n",
       "\t<tr><th scope=row>CRIM</th><td>  3.61352356 </td><td>  5.395228   </td><td>  1.781704443</td><td> 0.207137720 </td></tr>\n",
       "\t<tr><th scope=row>ZN</th><td> 11.36363636 </td><td>  0.000000   </td><td>-11.363636364</td><td>-0.487240187 </td></tr>\n",
       "\t<tr><th scope=row>INDUS</th><td> 11.13677866 </td><td> 11.964000   </td><td>  0.827221344</td><td> 0.120579998 </td></tr>\n",
       "\t<tr><th scope=row>CHAS</th><td>  0.06916996 </td><td>  0.000000   </td><td> -0.069169960</td><td>-0.272329068 </td></tr>\n",
       "\t<tr><th scope=row>NOX</th><td>  0.55469506 </td><td>  0.563600   </td><td>  0.008904941</td><td> 0.076847768 </td></tr>\n",
       "\t<tr><th scope=row>RM</th><td>  6.28463439 </td><td>  6.234800   </td><td> -0.049834387</td><td>-0.070926802 </td></tr>\n",
       "\t<tr><th scope=row>AGE</th><td> 68.57490119 </td><td> 76.400000   </td><td>  7.825098814</td><td> 0.277989887 </td></tr>\n",
       "\t<tr><th scope=row>DIS</th><td>  3.79504269 </td><td>  3.032500   </td><td> -0.762542688</td><td>-0.362130893 </td></tr>\n",
       "\t<tr><th scope=row>RAD</th><td>  9.54940711 </td><td>  9.400000   </td><td> -0.149407115</td><td>-0.017158914 </td></tr>\n",
       "\t<tr><th scope=row>TAX</th><td>408.23715415 </td><td>409.400000   </td><td>  1.162845850</td><td> 0.006899643 </td></tr>\n",
       "\t<tr><th scope=row>PTRATIO</th><td> 18.45553360 </td><td> 18.560000   </td><td>  0.104466403</td><td> 0.048253594 </td></tr>\n",
       "\t<tr><th scope=row>B</th><td>356.67403162 </td><td>387.534000   </td><td> 30.859968379</td><td> 0.338025239 </td></tr>\n",
       "\t<tr><th scope=row>LSTAT</th><td> 12.65306324 </td><td> 11.500000   </td><td> -1.153063241</td><td>-0.161469445 </td></tr>\n",
       "\t<tr><th scope=row>MEDV</th><td> 22.53280632 </td><td> 24.920000   </td><td>  2.387193676</td><td> 0.259559276 </td></tr>\n",
       "</tbody>\n",
       "</table>\n"
      ],
      "text/latex": [
       "\\begin{tabular}{r|llll}\n",
       "  & boston\\_mean & sample\\_mean & difference & Z\\_Score\\\\\n",
       "\\hline\n",
       "\tCRIM &   3.61352356  &   5.395228    &   1.781704443 &  0.207137720 \\\\\n",
       "\tZN &  11.36363636  &   0.000000    & -11.363636364 & -0.487240187 \\\\\n",
       "\tINDUS &  11.13677866  &  11.964000    &   0.827221344 &  0.120579998 \\\\\n",
       "\tCHAS &   0.06916996  &   0.000000    &  -0.069169960 & -0.272329068 \\\\\n",
       "\tNOX &   0.55469506  &   0.563600    &   0.008904941 &  0.076847768 \\\\\n",
       "\tRM &   6.28463439  &   6.234800    &  -0.049834387 & -0.070926802 \\\\\n",
       "\tAGE &  68.57490119  &  76.400000    &   7.825098814 &  0.277989887 \\\\\n",
       "\tDIS &   3.79504269  &   3.032500    &  -0.762542688 & -0.362130893 \\\\\n",
       "\tRAD &   9.54940711  &   9.400000    &  -0.149407115 & -0.017158914 \\\\\n",
       "\tTAX & 408.23715415  & 409.400000    &   1.162845850 &  0.006899643 \\\\\n",
       "\tPTRATIO &  18.45553360  &  18.560000    &   0.104466403 &  0.048253594 \\\\\n",
       "\tB & 356.67403162  & 387.534000    &  30.859968379 &  0.338025239 \\\\\n",
       "\tLSTAT &  12.65306324  &  11.500000    &  -1.153063241 & -0.161469445 \\\\\n",
       "\tMEDV &  22.53280632  &  24.920000    &   2.387193676 &  0.259559276 \\\\\n",
       "\\end{tabular}\n"
      ],
      "text/markdown": [
       "\n",
       "| <!--/--> | boston_mean | sample_mean | difference | Z_Score | \n",
       "|---|---|---|---|---|---|---|---|---|---|---|---|---|---|\n",
       "| CRIM |   3.61352356  |   5.395228    |   1.781704443 |  0.207137720  | \n",
       "| ZN |  11.36363636  |   0.000000    | -11.363636364 | -0.487240187  | \n",
       "| INDUS |  11.13677866  |  11.964000    |   0.827221344 |  0.120579998  | \n",
       "| CHAS |   0.06916996  |   0.000000    |  -0.069169960 | -0.272329068  | \n",
       "| NOX |   0.55469506  |   0.563600    |   0.008904941 |  0.076847768  | \n",
       "| RM |   6.28463439  |   6.234800    |  -0.049834387 | -0.070926802  | \n",
       "| AGE |  68.57490119  |  76.400000    |   7.825098814 |  0.277989887  | \n",
       "| DIS |   3.79504269  |   3.032500    |  -0.762542688 | -0.362130893  | \n",
       "| RAD |   9.54940711  |   9.400000    |  -0.149407115 | -0.017158914  | \n",
       "| TAX | 408.23715415  | 409.400000    |   1.162845850 |  0.006899643  | \n",
       "| PTRATIO |  18.45553360  |  18.560000    |   0.104466403 |  0.048253594  | \n",
       "| B | 356.67403162  | 387.534000    |  30.859968379 |  0.338025239  | \n",
       "| LSTAT |  12.65306324  |  11.500000    |  -1.153063241 | -0.161469445  | \n",
       "| MEDV |  22.53280632  |  24.920000    |   2.387193676 |  0.259559276  | \n",
       "\n",
       "\n"
      ],
      "text/plain": [
       "        boston_mean  sample_mean difference    Z_Score     \n",
       "CRIM      3.61352356   5.395228    1.781704443  0.207137720\n",
       "ZN       11.36363636   0.000000  -11.363636364 -0.487240187\n",
       "INDUS    11.13677866  11.964000    0.827221344  0.120579998\n",
       "CHAS      0.06916996   0.000000   -0.069169960 -0.272329068\n",
       "NOX       0.55469506   0.563600    0.008904941  0.076847768\n",
       "RM        6.28463439   6.234800   -0.049834387 -0.070926802\n",
       "AGE      68.57490119  76.400000    7.825098814  0.277989887\n",
       "DIS       3.79504269   3.032500   -0.762542688 -0.362130893\n",
       "RAD       9.54940711   9.400000   -0.149407115 -0.017158914\n",
       "TAX     408.23715415 409.400000    1.162845850  0.006899643\n",
       "PTRATIO  18.45553360  18.560000    0.104466403  0.048253594\n",
       "B       356.67403162 387.534000   30.859968379  0.338025239\n",
       "LSTAT    12.65306324  11.500000   -1.153063241 -0.161469445\n",
       "MEDV     22.53280632  24.920000    2.387193676  0.259559276"
      ]
     },
     "metadata": {},
     "output_type": "display_data"
    }
   ],
   "source": [
    "# Difference between sample means and entire data set means\n",
    "diff <- colMeans(sample) - bostonStats$mean\n",
    "zScore <- diff / bostonStats$sd\n",
    "data.frame(boston_mean = bostonStats$mean, sample_mean = colMeans(sample), difference = diff, Z_Score = zScore)"
   ]
  },
  {
   "cell_type": "markdown",
   "metadata": {},
   "source": [
    "### Heat Maps"
   ]
  },
  {
   "cell_type": "code",
   "execution_count": 7,
   "metadata": {
    "collapsed": false,
    "scrolled": true
   },
   "outputs": [],
   "source": [
    "# Prep points to be plotted\n",
    "sampleZScore <- t(sample - bostonStats$mean) / bostonStats$sd\n",
    "sample_df <- data.frame(t(sample), feature = colnames(boston))\n",
    "sampleZScore_df <- data.frame(sampleZScore, feature = colnames(boston))"
   ]
  },
  {
   "cell_type": "code",
   "execution_count": 8,
   "metadata": {
    "collapsed": false
   },
   "outputs": [
    {
     "name": "stderr",
     "output_type": "stream",
     "text": [
      "Using feature as id variables\n",
      "Using feature as id variables\n"
     ]
    },
    {
     "data": {
      "image/png": "[encoded data removed]",
      "text/plain": [
       "plot without title"
      ]
     },
     "metadata": {},
     "output_type": "display_data"
    }
   ],
   "source": [
    "# Plot Sample Points\n",
    "plot1 <- ggplot(melt(sample_df), aes(x = variable, y = feature, fill = value)) + \n",
    "    geom_tile() + \n",
    "    scale_fill_gradient2(low = \"blue\", mid = \"white\", high = \"red\") +\n",
    "    ggtitle(\"Sample Points\")\n",
    "\n",
    "# Plot Z-Scores\n",
    "plot2 <- ggplot(melt(sampleZScore_df), aes(x = variable, y = feature, fill = value)) + \n",
    "    geom_tile() + \n",
    "    scale_fill_gradient2(low = \"blue\", mid = \"white\", high = \"red\") +\n",
    "    ggtitle(\"Z Score\")\n",
    "\n",
    "options(repr.plot.width = 10, repr.plot.height = 5)\n",
    "grid.arrange(plot1, plot2, ncol=2)"
   ]
  },
  {
   "cell_type": "markdown",
   "metadata": {},
   "source": [
    "### Bar Plots "
   ]
  },
  {
   "cell_type": "code",
   "execution_count": 9,
   "metadata": {
    "collapsed": false
   },
   "outputs": [
    {
     "name": "stderr",
     "output_type": "stream",
     "text": [
      "Using feature as id variables\n"
     ]
    },
    {
     "data": {},
     "metadata": {},
     "output_type": "display_data"
    },
    {
     "name": "stderr",
     "output_type": "stream",
     "text": [
      "Using feature as id variables\n"
     ]
    },
    {
     "data": {},
     "metadata": {},
     "output_type": "display_data"
    },
    {
     "data": {
      "image/png": "[encoded data removed]",
      "text/plain": [
       "plot without title"
      ]
     },
     "metadata": {},
     "output_type": "display_data"
    },
    {
     "data": {
      "image/png": "[encoded data removed]",
      "text/plain": [
       "plot without title"
      ]
     },
     "metadata": {},
     "output_type": "display_data"
    }
   ],
   "source": [
    "# Plot Sample Points\n",
    "ggplot(melt(sample_df), aes(x = feature, y = value, fill = variable)) + \n",
    "    geom_bar(color=\"black\", stat = \"identity\", width=0.7, position = \"dodge\") + \n",
    "    ggtitle(\"Sample Points\")\n",
    "\n",
    "# Plot Z-Score Points\n",
    "ggplot(melt(sampleZScore_df), aes(x = feature, y = value, fill = variable)) + \n",
    "    geom_bar(color=\"black\", stat = \"identity\", width=0.7, position = \"dodge\") + \n",
    "    ggtitle(\"Z Score\")"
   ]
  },
  {
   "cell_type": "markdown",
   "metadata": {},
   "source": [
    "### Speculations\n",
    "\n",
    "Sample 470: This location seems to be a high crime location populated by the lower status, but close to many radical highways.   \n",
    "Sample 1: This seems like a more affluent and very safe neighboorhood.   \n",
    "Sample 134: This seems like location with lots of local businesses but occupied by the lower class.\n",
    "Sample 140: similar to 134  \n",
    "Sample 262: Residential area with high median value of owner-occupied homes  \n",
    "\n",
    "Just from the histogram and heatmap alone, it is difficult to define the relationships between different variables. A pairs plot would provide greater insights into the correlation between variables."
   ]
  }
 ],
 "metadata": {
  "kernelspec": {
   "display_name": "R",
   "language": "R",
   "name": "ir"
  },
  "language_info": {
   "codemirror_mode": "r",
   "file_extension": ".r",
   "mimetype": "text/x-r-source",
   "name": "R",
   "pygments_lexer": "r",
   "version": "3.3.2"
  }
 },
 "nbformat": 4,
 "nbformat_minor": 0
}
