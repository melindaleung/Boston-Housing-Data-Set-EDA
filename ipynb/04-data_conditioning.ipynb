{
 "cells": [
  {
   "cell_type": "markdown",
   "metadata": {},
   "source": [
    "# Data Conditioning\n",
    "\n",
    "This notebook looks at basic statistics of the data. It determines the median and mean for each feature and assesses the skewness of the variables."
   ]
  },
  {
   "cell_type": "code",
   "execution_count": 93,
   "metadata": {
    "collapsed": false
   },
   "outputs": [],
   "source": [
    "# Libraries\n",
    "library(dplyr)\n",
    "library(moments)\n",
    "library(repr)\n",
    "library(ggplot2)\n",
    "library(gridExtra)\n",
    "options(repr.plot.height = 2)"
   ]
  },
  {
   "cell_type": "code",
   "execution_count": 87,
   "metadata": {
    "collapsed": false
   },
   "outputs": [
    {
     "name": "stderr",
     "output_type": "stream",
     "text": [
      "The following objects are masked from bostonScaled:\n",
      "\n",
      "    AGE, B, CHAS, CRIM, DIS, INDUS, LSTAT, MEDV, NOX, PTRATIO, RAD, RM,\n",
      "    TAX, ZN\n",
      "\n",
      "The following objects are masked from boston (pos = 4):\n",
      "\n",
      "    AGE, B, CHAS, CRIM, DIS, INDUS, LSTAT, MEDV, NOX, PTRATIO, RAD, RM,\n",
      "    TAX, ZN\n",
      "\n",
      "The following objects are masked from boston (pos = 5):\n",
      "\n",
      "    AGE, B, CHAS, CRIM, DIS, INDUS, LSTAT, MEDV, NOX, PTRATIO, RAD, RM,\n",
      "    TAX, ZN\n",
      "\n",
      "The following objects are masked from boston (pos = 6):\n",
      "\n",
      "    AGE, B, CHAS, CRIM, DIS, INDUS, LSTAT, MEDV, NOX, PTRATIO, RAD, RM,\n",
      "    TAX, ZN\n",
      "\n"
     ]
    }
   ],
   "source": [
    "# 00. Acquire the Data Set\n",
    "bostonURL <- url(\"https://archive.ics.uci.edu/ml/machine-learning-databases/housing/housing.data\")\n",
    "boston <- read.table(bostonURL)\n",
    "colnames(boston) <- c(\"CRIM\", \"ZN\", \"INDUS\", \"CHAS\", \"NOX\", \"RM\", \"AGE\", \"DIS\", \"RAD\", \"TAX\",\"PTRATIO\", \"B\", \"LSTAT\", \"MEDV\")\n",
    "attach(boston)"
   ]
  },
  {
   "cell_type": "markdown",
   "metadata": {},
   "source": [
    "### Boston Data Set Statistics"
   ]
  },
  {
   "cell_type": "code",
   "execution_count": 88,
   "metadata": {
    "collapsed": false
   },
   "outputs": [
    {
     "data": {
      "text/html": [
       "<table>\n",
       "<thead><tr><th scope=col>feature</th><th scope=col>mean</th><th scope=col>sd</th><th scope=col>skewness</th><th scope=col>kurtosis</th></tr></thead>\n",
       "<tbody>\n",
       "\t<tr><td>CRIM        </td><td>  3.61352356</td><td>  8.6015451 </td><td> 5.2076524  </td><td>39.752786   </td></tr>\n",
       "\t<tr><td>ZN          </td><td> 11.36363636</td><td> 23.3224530 </td><td> 2.2190631  </td><td> 6.979949   </td></tr>\n",
       "\t<tr><td>INDUS       </td><td> 11.13677866</td><td>  6.8603529 </td><td> 0.2941463  </td><td> 1.766782   </td></tr>\n",
       "\t<tr><td>CHAS        </td><td>  0.06916996</td><td>  0.2539940 </td><td> 3.3957993  </td><td>12.531453   </td></tr>\n",
       "\t<tr><td>NOX         </td><td>  0.55469506</td><td>  0.1158777 </td><td> 0.7271442  </td><td> 2.924136   </td></tr>\n",
       "\t<tr><td>RM          </td><td>  6.28463439</td><td>  0.7026171 </td><td> 0.4024147  </td><td> 4.861027   </td></tr>\n",
       "\t<tr><td>AGE         </td><td> 68.57490119</td><td> 28.1488614 </td><td>-0.5971856  </td><td> 2.029986   </td></tr>\n",
       "\t<tr><td>DIS         </td><td>  3.79504269</td><td>  2.1057101 </td><td> 1.0087788  </td><td> 3.471299   </td></tr>\n",
       "\t<tr><td>RAD         </td><td>  9.54940711</td><td>  8.7072594 </td><td> 1.0018335  </td><td> 2.129479   </td></tr>\n",
       "\t<tr><td>TAX         </td><td>408.23715415</td><td>168.5371161 </td><td> 0.6679683  </td><td> 1.857015   </td></tr>\n",
       "\t<tr><td>PTRATIO     </td><td> 18.45553360</td><td>  2.1649455 </td><td>-0.7999445  </td><td> 2.705884   </td></tr>\n",
       "\t<tr><td>B           </td><td>356.67403162</td><td> 91.2948644 </td><td>-2.8817983  </td><td>10.143769   </td></tr>\n",
       "\t<tr><td>LSTAT       </td><td> 12.65306324</td><td>  7.1410615 </td><td> 0.9037707  </td><td> 3.476545   </td></tr>\n",
       "\t<tr><td>MEDV        </td><td> 22.53280632</td><td>  9.1971041 </td><td> 1.1048108  </td><td> 4.468629   </td></tr>\n",
       "</tbody>\n",
       "</table>\n"
      ],
      "text/latex": [
       "\\begin{tabular}{r|lllll}\n",
       " feature & mean & sd & skewness & kurtosis\\\\\n",
       "\\hline\n",
       "\t CRIM         &   3.61352356 &   8.6015451  &  5.2076524   & 39.752786   \\\\\n",
       "\t ZN           &  11.36363636 &  23.3224530  &  2.2190631   &  6.979949   \\\\\n",
       "\t INDUS        &  11.13677866 &   6.8603529  &  0.2941463   &  1.766782   \\\\\n",
       "\t CHAS         &   0.06916996 &   0.2539940  &  3.3957993   & 12.531453   \\\\\n",
       "\t NOX          &   0.55469506 &   0.1158777  &  0.7271442   &  2.924136   \\\\\n",
       "\t RM           &   6.28463439 &   0.7026171  &  0.4024147   &  4.861027   \\\\\n",
       "\t AGE          &  68.57490119 &  28.1488614  & -0.5971856   &  2.029986   \\\\\n",
       "\t DIS          &   3.79504269 &   2.1057101  &  1.0087788   &  3.471299   \\\\\n",
       "\t RAD          &   9.54940711 &   8.7072594  &  1.0018335   &  2.129479   \\\\\n",
       "\t TAX          & 408.23715415 & 168.5371161  &  0.6679683   &  1.857015   \\\\\n",
       "\t PTRATIO      &  18.45553360 &   2.1649455  & -0.7999445   &  2.705884   \\\\\n",
       "\t B            & 356.67403162 &  91.2948644  & -2.8817983   & 10.143769   \\\\\n",
       "\t LSTAT        &  12.65306324 &   7.1410615  &  0.9037707   &  3.476545   \\\\\n",
       "\t MEDV         &  22.53280632 &   9.1971041  &  1.1048108   &  4.468629   \\\\\n",
       "\\end{tabular}\n"
      ],
      "text/markdown": [
       "\n",
       "feature | mean | sd | skewness | kurtosis | \n",
       "|---|---|---|---|---|---|---|---|---|---|---|---|---|---|\n",
       "| CRIM         |   3.61352356 |   8.6015451  |  5.2076524   | 39.752786    | \n",
       "| ZN           |  11.36363636 |  23.3224530  |  2.2190631   |  6.979949    | \n",
       "| INDUS        |  11.13677866 |   6.8603529  |  0.2941463   |  1.766782    | \n",
       "| CHAS         |   0.06916996 |   0.2539940  |  3.3957993   | 12.531453    | \n",
       "| NOX          |   0.55469506 |   0.1158777  |  0.7271442   |  2.924136    | \n",
       "| RM           |   6.28463439 |   0.7026171  |  0.4024147   |  4.861027    | \n",
       "| AGE          |  68.57490119 |  28.1488614  | -0.5971856   |  2.029986    | \n",
       "| DIS          |   3.79504269 |   2.1057101  |  1.0087788   |  3.471299    | \n",
       "| RAD          |   9.54940711 |   8.7072594  |  1.0018335   |  2.129479    | \n",
       "| TAX          | 408.23715415 | 168.5371161  |  0.6679683   |  1.857015    | \n",
       "| PTRATIO      |  18.45553360 |   2.1649455  | -0.7999445   |  2.705884    | \n",
       "| B            | 356.67403162 |  91.2948644  | -2.8817983   | 10.143769    | \n",
       "| LSTAT        |  12.65306324 |   7.1410615  |  0.9037707   |  3.476545    | \n",
       "| MEDV         |  22.53280632 |   9.1971041  |  1.1048108   |  4.468629    | \n",
       "\n",
       "\n"
      ],
      "text/plain": [
       "   feature mean         sd          skewness   kurtosis \n",
       "1  CRIM      3.61352356   8.6015451  5.2076524 39.752786\n",
       "2  ZN       11.36363636  23.3224530  2.2190631  6.979949\n",
       "3  INDUS    11.13677866   6.8603529  0.2941463  1.766782\n",
       "4  CHAS      0.06916996   0.2539940  3.3957993 12.531453\n",
       "5  NOX       0.55469506   0.1158777  0.7271442  2.924136\n",
       "6  RM        6.28463439   0.7026171  0.4024147  4.861027\n",
       "7  AGE      68.57490119  28.1488614 -0.5971856  2.029986\n",
       "8  DIS       3.79504269   2.1057101  1.0087788  3.471299\n",
       "9  RAD       9.54940711   8.7072594  1.0018335  2.129479\n",
       "10 TAX     408.23715415 168.5371161  0.6679683  1.857015\n",
       "11 PTRATIO  18.45553360   2.1649455 -0.7999445  2.705884\n",
       "12 B       356.67403162  91.2948644 -2.8817983 10.143769\n",
       "13 LSTAT    12.65306324   7.1410615  0.9037707  3.476545\n",
       "14 MEDV     22.53280632   9.1971041  1.1048108  4.468629"
      ]
     },
     "metadata": {},
     "output_type": "display_data"
    }
   ],
   "source": [
    "# Boston Data Set Statistics\n",
    "bostonStats <- data.frame(feature = colnames(boston))\n",
    "bostonStats['mean'] <- sapply(boston, mean)\n",
    "bostonStats['sd'] = sapply(boston, sd)\n",
    "bostonStats['skewness'] <- sapply(boston, skewness)\n",
    "bostonStats['kurtosis'] <- sapply(boston, kurtosis)\n",
    "bostonStats"
   ]
  },
  {
   "cell_type": "markdown",
   "metadata": {},
   "source": [
    "### Distribution Plots\n",
    "\n",
    "The following are the distribution plots of each feature. Blue indicates median whereas red indicates mean."
   ]
  },
  {
   "cell_type": "code",
   "execution_count": 89,
   "metadata": {
    "collapsed": false
   },
   "outputs": [],
   "source": [
    "# This function plots the distribution plots of two features side by side\n",
    "special_plot2 <- function (feature1, feature2) {\n",
    "    \n",
    "    p1 <- qplot(feature1, geom=\"histogram\", bins=200, alpha=I(.4),) +\n",
    "        geom_vline(aes(xintercept=mean(feature1)), color=\"red\", linetype=\"dashed\", size=1) +\n",
    "        geom_vline(aes(xintercept=median(feature1)), color=\"blue\", linetype=\"dashed\", size=1) +\n",
    "        ggtitle(paste(\" Distribution of\", deparse(substitute(feature1)))) + \n",
    "        theme(plot.title = element_text(size=10, face = \"bold\"), text = element_text(size=8)) +\n",
    "        xlab(deparse(substitute(feature1))) +\n",
    "        ylab(\"Count\")\n",
    "    \n",
    "    \n",
    "    p2 <- qplot(feature2, geom=\"histogram\", bins=200, alpha=I(.4),)+\n",
    "        geom_vline(aes(xintercept=mean(feature2)), color=\"red\", linetype=\"dashed\", size=1)+\n",
    "        geom_vline(aes(xintercept=median(feature2)), color=\"blue\", linetype=\"dashed\", size=1)+\n",
    "        ggtitle(paste(\" Distribution of\", deparse(substitute(feature2)))) + \n",
    "        theme(plot.title = element_text(size=10, face = \"bold\"), text = element_text(size=8)) +\n",
    "        xlab(deparse(substitute(feature2))) +\n",
    "        ylab(\"Count\")\n",
    "    \n",
    "    grid.arrange(p1, p2, ncol=2)\n",
    "}    "
   ]
  },
  {
   "cell_type": "code",
   "execution_count": 90,
   "metadata": {
    "collapsed": false
   },
   "outputs": [
    {
     "data": {
      "image/png": "[encoded data removed]",
      "text/plain": [
       "plot without title"
      ]
     },
     "metadata": {},
     "output_type": "display_data"
    },
    {
     "data": {
      "image/png": "[encoded data removed]",
      "text/plain": [
       "plot without title"
      ]
     },
     "metadata": {},
     "output_type": "display_data"
    },
    {
     "data": {
      "image/png": "[encoded data removed]",
      "text/plain": [
       "plot without title"
      ]
     },
     "metadata": {},
     "output_type": "display_data"
    },
    {
     "data": {
      "image/png": "[encoded data removed]",
      "text/plain": [
       "plot without title"
      ]
     },
     "metadata": {},
     "output_type": "display_data"
    },
    {
     "data": {
      "image/png": "[encoded data removed]",
      "text/plain": [
       "plot without title"
      ]
     },
     "metadata": {},
     "output_type": "display_data"
    },
    {
     "data": {
      "image/png": "[encoded data removed]",
      "text/plain": [
       "plot without title"
      ]
     },
     "metadata": {},
     "output_type": "display_data"
    },
    {
     "data": {
      "image/png": "[encoded data removed]",
      "text/plain": [
       "plot without title"
      ]
     },
     "metadata": {},
     "output_type": "display_data"
    }
   ],
   "source": [
    "special_plot2(CRIM, ZN)\n",
    "special_plot2(INDUS, CHAS)\n",
    "special_plot2(NOX, RM)\n",
    "special_plot2(AGE, DIS)\n",
    "special_plot2(RAD, TAX)\n",
    "special_plot2(PTRATIO, B)\n",
    "special_plot2(LSTAT, MEDV)"
   ]
  },
  {
   "cell_type": "markdown",
   "metadata": {},
   "source": [
    "### Skewness\n",
    "\n",
    "You can assess the plots skewness by looking at where the mean and median falls.   \n",
    "If the mean > median, then the values are right or positively skewed.   \n",
    "If the mean < median, then the values are left or negatively skewed.  \n",
    "\n",
    "For example, we can see that CRIM and DIS are positively skewed whereas B and AGE are negatively skewed."
   ]
  },
  {
   "cell_type": "markdown",
   "metadata": {},
   "source": [
    "### Standardizing the Data\n",
    "\n",
    "Using scale() standardizes the dataset. Notice how all the standard deviations are equal to 1. The mean changes but the skewness and kurtosis does not."
   ]
  },
  {
   "cell_type": "code",
   "execution_count": 91,
   "metadata": {
    "collapsed": false
   },
   "outputs": [
    {
     "data": {
      "text/html": [
       "<table>\n",
       "<thead><tr><th scope=col>feature</th><th scope=col>mean</th><th scope=col>sd</th><th scope=col>skewness</th><th scope=col>kurtosis</th><th scope=col>mean_scaled</th><th scope=col>sd_scaled</th><th scope=col>skewness_scaled</th><th scope=col>kurtosis_scaled</th></tr></thead>\n",
       "<tbody>\n",
       "\t<tr><td>CRIM         </td><td>  3.61352356 </td><td>  8.6015451  </td><td> 5.2076524   </td><td>39.752786    </td><td>-7.202981e-18</td><td>1            </td><td> 5.2076524   </td><td>39.752786    </td></tr>\n",
       "\t<tr><td>ZN           </td><td> 11.36363636 </td><td> 23.3224530  </td><td> 2.2190631   </td><td> 6.979949    </td><td> 2.282481e-17</td><td>1            </td><td> 2.2190631   </td><td> 6.979949    </td></tr>\n",
       "\t<tr><td>INDUS        </td><td> 11.13677866 </td><td>  6.8603529  </td><td> 0.2941463   </td><td> 1.766782    </td><td> 1.595296e-17</td><td>1            </td><td> 0.2941463   </td><td> 1.766782    </td></tr>\n",
       "\t<tr><td>CHAS         </td><td>  0.06916996 </td><td>  0.2539940  </td><td> 3.3957993   </td><td>12.531453    </td><td>-3.544441e-18</td><td>1            </td><td> 3.3957993   </td><td>12.531453    </td></tr>\n",
       "\t<tr><td>NOX          </td><td>  0.55469506 </td><td>  0.1158777  </td><td> 0.7271442   </td><td> 2.924136    </td><td>-2.150022e-16</td><td>1            </td><td> 0.7271442   </td><td> 2.924136    </td></tr>\n",
       "\t<tr><td>RM           </td><td>  6.28463439 </td><td>  0.7026171  </td><td> 0.4024147   </td><td> 4.861027    </td><td>-1.056462e-16</td><td>1            </td><td> 0.4024147   </td><td> 4.861027    </td></tr>\n",
       "\t<tr><td>AGE          </td><td> 68.57490119 </td><td> 28.1488614  </td><td>-0.5971856   </td><td> 2.029986    </td><td>-1.643357e-16</td><td>1            </td><td>-0.5971856   </td><td> 2.029986    </td></tr>\n",
       "\t<tr><td>DIS          </td><td>  3.79504269 </td><td>  2.1057101  </td><td> 1.0087788   </td><td> 3.471299    </td><td> 1.153079e-16</td><td>1            </td><td> 1.0087788   </td><td> 3.471299    </td></tr>\n",
       "\t<tr><td>RAD          </td><td>  9.54940711 </td><td>  8.7072594  </td><td> 1.0018335   </td><td> 2.129479    </td><td> 4.799652e-17</td><td>1            </td><td> 1.0018335   </td><td> 2.129479    </td></tr>\n",
       "\t<tr><td>TAX          </td><td>408.23715415 </td><td>168.5371161  </td><td> 0.6679683   </td><td> 1.857015    </td><td> 2.024415e-17</td><td>1            </td><td> 0.6679683   </td><td> 1.857015    </td></tr>\n",
       "\t<tr><td>PTRATIO      </td><td> 18.45553360 </td><td>  2.1649455  </td><td>-0.7999445   </td><td> 2.705884    </td><td>-3.924246e-16</td><td>1            </td><td>-0.7999445   </td><td> 2.705884    </td></tr>\n",
       "\t<tr><td>B            </td><td>356.67403162 </td><td> 91.2948644  </td><td>-2.8817983   </td><td>10.143769    </td><td>-1.151679e-16</td><td>1            </td><td>-2.8817983   </td><td>10.143769    </td></tr>\n",
       "\t<tr><td>LSTAT        </td><td> 12.65306324 </td><td>  7.1410615  </td><td> 0.9037707   </td><td> 3.476545    </td><td>-7.052778e-17</td><td>1            </td><td> 0.9037707   </td><td> 3.476545    </td></tr>\n",
       "\t<tr><td>MEDV         </td><td> 22.53280632 </td><td>  9.1971041  </td><td> 1.1048108   </td><td> 4.468629    </td><td>-1.374631e-16</td><td>1            </td><td> 1.1048108   </td><td> 4.468629    </td></tr>\n",
       "</tbody>\n",
       "</table>\n"
      ],
      "text/latex": [
       "\\begin{tabular}{r|lllllllll}\n",
       " feature & mean & sd & skewness & kurtosis & mean\\_scaled & sd\\_scaled & skewness\\_scaled & kurtosis\\_scaled\\\\\n",
       "\\hline\n",
       "\t CRIM          &   3.61352356  &   8.6015451   &  5.2076524    & 39.752786     & -7.202981e-18 & 1             &  5.2076524    & 39.752786    \\\\\n",
       "\t ZN            &  11.36363636  &  23.3224530   &  2.2190631    &  6.979949     &  2.282481e-17 & 1             &  2.2190631    &  6.979949    \\\\\n",
       "\t INDUS         &  11.13677866  &   6.8603529   &  0.2941463    &  1.766782     &  1.595296e-17 & 1             &  0.2941463    &  1.766782    \\\\\n",
       "\t CHAS          &   0.06916996  &   0.2539940   &  3.3957993    & 12.531453     & -3.544441e-18 & 1             &  3.3957993    & 12.531453    \\\\\n",
       "\t NOX           &   0.55469506  &   0.1158777   &  0.7271442    &  2.924136     & -2.150022e-16 & 1             &  0.7271442    &  2.924136    \\\\\n",
       "\t RM            &   6.28463439  &   0.7026171   &  0.4024147    &  4.861027     & -1.056462e-16 & 1             &  0.4024147    &  4.861027    \\\\\n",
       "\t AGE           &  68.57490119  &  28.1488614   & -0.5971856    &  2.029986     & -1.643357e-16 & 1             & -0.5971856    &  2.029986    \\\\\n",
       "\t DIS           &   3.79504269  &   2.1057101   &  1.0087788    &  3.471299     &  1.153079e-16 & 1             &  1.0087788    &  3.471299    \\\\\n",
       "\t RAD           &   9.54940711  &   8.7072594   &  1.0018335    &  2.129479     &  4.799652e-17 & 1             &  1.0018335    &  2.129479    \\\\\n",
       "\t TAX           & 408.23715415  & 168.5371161   &  0.6679683    &  1.857015     &  2.024415e-17 & 1             &  0.6679683    &  1.857015    \\\\\n",
       "\t PTRATIO       &  18.45553360  &   2.1649455   & -0.7999445    &  2.705884     & -3.924246e-16 & 1             & -0.7999445    &  2.705884    \\\\\n",
       "\t B             & 356.67403162  &  91.2948644   & -2.8817983    & 10.143769     & -1.151679e-16 & 1             & -2.8817983    & 10.143769    \\\\\n",
       "\t LSTAT         &  12.65306324  &   7.1410615   &  0.9037707    &  3.476545     & -7.052778e-17 & 1             &  0.9037707    &  3.476545    \\\\\n",
       "\t MEDV          &  22.53280632  &   9.1971041   &  1.1048108    &  4.468629     & -1.374631e-16 & 1             &  1.1048108    &  4.468629    \\\\\n",
       "\\end{tabular}\n"
      ],
      "text/markdown": [
       "\n",
       "feature | mean | sd | skewness | kurtosis | mean_scaled | sd_scaled | skewness_scaled | kurtosis_scaled | \n",
       "|---|---|---|---|---|---|---|---|---|---|---|---|---|---|\n",
       "| CRIM          |   3.61352356  |   8.6015451   |  5.2076524    | 39.752786     | -7.202981e-18 | 1             |  5.2076524    | 39.752786     | \n",
       "| ZN            |  11.36363636  |  23.3224530   |  2.2190631    |  6.979949     |  2.282481e-17 | 1             |  2.2190631    |  6.979949     | \n",
       "| INDUS         |  11.13677866  |   6.8603529   |  0.2941463    |  1.766782     |  1.595296e-17 | 1             |  0.2941463    |  1.766782     | \n",
       "| CHAS          |   0.06916996  |   0.2539940   |  3.3957993    | 12.531453     | -3.544441e-18 | 1             |  3.3957993    | 12.531453     | \n",
       "| NOX           |   0.55469506  |   0.1158777   |  0.7271442    |  2.924136     | -2.150022e-16 | 1             |  0.7271442    |  2.924136     | \n",
       "| RM            |   6.28463439  |   0.7026171   |  0.4024147    |  4.861027     | -1.056462e-16 | 1             |  0.4024147    |  4.861027     | \n",
       "| AGE           |  68.57490119  |  28.1488614   | -0.5971856    |  2.029986     | -1.643357e-16 | 1             | -0.5971856    |  2.029986     | \n",
       "| DIS           |   3.79504269  |   2.1057101   |  1.0087788    |  3.471299     |  1.153079e-16 | 1             |  1.0087788    |  3.471299     | \n",
       "| RAD           |   9.54940711  |   8.7072594   |  1.0018335    |  2.129479     |  4.799652e-17 | 1             |  1.0018335    |  2.129479     | \n",
       "| TAX           | 408.23715415  | 168.5371161   |  0.6679683    |  1.857015     |  2.024415e-17 | 1             |  0.6679683    |  1.857015     | \n",
       "| PTRATIO       |  18.45553360  |   2.1649455   | -0.7999445    |  2.705884     | -3.924246e-16 | 1             | -0.7999445    |  2.705884     | \n",
       "| B             | 356.67403162  |  91.2948644   | -2.8817983    | 10.143769     | -1.151679e-16 | 1             | -2.8817983    | 10.143769     | \n",
       "| LSTAT         |  12.65306324  |   7.1410615   |  0.9037707    |  3.476545     | -7.052778e-17 | 1             |  0.9037707    |  3.476545     | \n",
       "| MEDV          |  22.53280632  |   9.1971041   |  1.1048108    |  4.468629     | -1.374631e-16 | 1             |  1.1048108    |  4.468629     | \n",
       "\n",
       "\n"
      ],
      "text/plain": [
       "   feature mean         sd          skewness   kurtosis  mean_scaled  \n",
       "1  CRIM      3.61352356   8.6015451  5.2076524 39.752786 -7.202981e-18\n",
       "2  ZN       11.36363636  23.3224530  2.2190631  6.979949  2.282481e-17\n",
       "3  INDUS    11.13677866   6.8603529  0.2941463  1.766782  1.595296e-17\n",
       "4  CHAS      0.06916996   0.2539940  3.3957993 12.531453 -3.544441e-18\n",
       "5  NOX       0.55469506   0.1158777  0.7271442  2.924136 -2.150022e-16\n",
       "6  RM        6.28463439   0.7026171  0.4024147  4.861027 -1.056462e-16\n",
       "7  AGE      68.57490119  28.1488614 -0.5971856  2.029986 -1.643357e-16\n",
       "8  DIS       3.79504269   2.1057101  1.0087788  3.471299  1.153079e-16\n",
       "9  RAD       9.54940711   8.7072594  1.0018335  2.129479  4.799652e-17\n",
       "10 TAX     408.23715415 168.5371161  0.6679683  1.857015  2.024415e-17\n",
       "11 PTRATIO  18.45553360   2.1649455 -0.7999445  2.705884 -3.924246e-16\n",
       "12 B       356.67403162  91.2948644 -2.8817983 10.143769 -1.151679e-16\n",
       "13 LSTAT    12.65306324   7.1410615  0.9037707  3.476545 -7.052778e-17\n",
       "14 MEDV     22.53280632   9.1971041  1.1048108  4.468629 -1.374631e-16\n",
       "   sd_scaled skewness_scaled kurtosis_scaled\n",
       "1  1          5.2076524      39.752786      \n",
       "2  1          2.2190631       6.979949      \n",
       "3  1          0.2941463       1.766782      \n",
       "4  1          3.3957993      12.531453      \n",
       "5  1          0.7271442       2.924136      \n",
       "6  1          0.4024147       4.861027      \n",
       "7  1         -0.5971856       2.029986      \n",
       "8  1          1.0087788       3.471299      \n",
       "9  1          1.0018335       2.129479      \n",
       "10 1          0.6679683       1.857015      \n",
       "11 1         -0.7999445       2.705884      \n",
       "12 1         -2.8817983      10.143769      \n",
       "13 1          0.9037707       3.476545      \n",
       "14 1          1.1048108       4.468629      "
      ]
     },
     "metadata": {},
     "output_type": "display_data"
    }
   ],
   "source": [
    "# Scaled Boston Data Set Statistics\n",
    "detach(boston)\n",
    "bostonScaled <- data.frame(scale(boston))\n",
    "bostonStats['mean_scaled'] <- sapply(bostonScaled, mean)\n",
    "bostonStats['sd_scaled'] = sapply(bostonScaled, sd)\n",
    "bostonStats['skewness_scaled'] <- sapply(bostonScaled, skewness)\n",
    "bostonStats['kurtosis_scaled'] <- sapply(bostonScaled, kurtosis)\n",
    "bostonStats"
   ]
  },
  {
   "cell_type": "code",
   "execution_count": 92,
   "metadata": {
    "collapsed": false
   },
   "outputs": [
    {
     "name": "stderr",
     "output_type": "stream",
     "text": [
      "The following objects are masked from bostonScaled (pos = 3):\n",
      "\n",
      "    AGE, B, CHAS, CRIM, DIS, INDUS, LSTAT, MEDV, NOX, PTRATIO, RAD, RM,\n",
      "    TAX, ZN\n",
      "\n",
      "The following objects are masked from boston (pos = 4):\n",
      "\n",
      "    AGE, B, CHAS, CRIM, DIS, INDUS, LSTAT, MEDV, NOX, PTRATIO, RAD, RM,\n",
      "    TAX, ZN\n",
      "\n",
      "The following objects are masked from boston (pos = 5):\n",
      "\n",
      "    AGE, B, CHAS, CRIM, DIS, INDUS, LSTAT, MEDV, NOX, PTRATIO, RAD, RM,\n",
      "    TAX, ZN\n",
      "\n",
      "The following objects are masked from boston (pos = 6):\n",
      "\n",
      "    AGE, B, CHAS, CRIM, DIS, INDUS, LSTAT, MEDV, NOX, PTRATIO, RAD, RM,\n",
      "    TAX, ZN\n",
      "\n"
     ]
    },
    {
     "data": {
      "image/png": "[encoded data removed]",
      "text/plain": [
       "plot without title"
      ]
     },
     "metadata": {},
     "output_type": "display_data"
    },
    {
     "data": {
      "image/png": "[encoded data removed]",
      "text/plain": [
       "plot without title"
      ]
     },
     "metadata": {},
     "output_type": "display_data"
    },
    {
     "data": {
      "image/png": "[encoded data removed]",
      "text/plain": [
       "plot without title"
      ]
     },
     "metadata": {},
     "output_type": "display_data"
    },
    {
     "data": {
      "image/png": "[encoded data removed]",
      "text/plain": [
       "plot without title"
      ]
     },
     "metadata": {},
     "output_type": "display_data"
    },
    {
     "data": {
      "image/png": "[encoded data removed]",
      "text/plain": [
       "plot without title"
      ]
     },
     "metadata": {},
     "output_type": "display_data"
    },
    {
     "data": {
      "image/png": "[encoded data removed]",
      "text/plain": [
       "plot without title"
      ]
     },
     "metadata": {},
     "output_type": "display_data"
    },
    {
     "data": {
      "image/png": "[encoded data removed]",
      "text/plain": [
       "plot without title"
      ]
     },
     "metadata": {},
     "output_type": "display_data"
    }
   ],
   "source": [
    "attach(bostonScaled)\n",
    "special_plot2(CRIM, ZN)\n",
    "special_plot2(INDUS, CHAS)\n",
    "special_plot2(NOX, RM)\n",
    "special_plot2(AGE, DIS)\n",
    "special_plot2(RAD, TAX)\n",
    "special_plot2(PTRATIO, B)\n",
    "special_plot2(LSTAT, MEDV)"
   ]
  },
  {
   "cell_type": "markdown",
   "metadata": {},
   "source": [
    "Even though this is scaled, the plots overall still look the same. "
   ]
  },
  {
   "cell_type": "markdown",
   "metadata": {},
   "source": [
    "### Log Transformation\n",
    "\n",
    "The following will apply a log transformation to the original data and the standardize it. The log transformation pulls the outliers closer to the mean, and thus, reducing skewness. "
   ]
  },
  {
   "cell_type": "code",
   "execution_count": 97,
   "metadata": {
    "collapsed": false
   },
   "outputs": [
    {
     "data": {
      "text/html": [
       "<table>\n",
       "<thead><tr><th scope=col>feature</th><th scope=col>mean</th><th scope=col>sd</th><th scope=col>skewness</th><th scope=col>kurtosis</th><th scope=col>mean_scaled</th><th scope=col>sd_scaled</th><th scope=col>skewness_scaled</th><th scope=col>kurtosis_scaled</th><th scope=col>mean_log</th><th scope=col>sd_log</th><th scope=col>skewness_log</th><th scope=col>kurtosis_log</th></tr></thead>\n",
       "<tbody>\n",
       "\t<tr><td>CRIM         </td><td>  3.61352356 </td><td>  8.6015451  </td><td> 5.2076524   </td><td>39.752786    </td><td>-7.202981e-18</td><td>1            </td><td> 5.2076524   </td><td>39.752786    </td><td> 2.108923e-17</td><td> 1           </td><td> 0.4047301   </td><td> 1.988418    </td></tr>\n",
       "\t<tr><td>ZN           </td><td> 11.36363636 </td><td> 23.3224530  </td><td> 2.2190631   </td><td> 6.979949    </td><td> 2.282481e-17</td><td>1            </td><td> 2.2190631   </td><td> 6.979949    </td><td>          NaN</td><td>NA           </td><td>       NaN   </td><td>      NaN    </td></tr>\n",
       "\t<tr><td>INDUS        </td><td> 11.13677866 </td><td>  6.8603529  </td><td> 0.2941463   </td><td> 1.766782    </td><td> 1.595296e-17</td><td>1            </td><td> 0.2941463   </td><td> 1.766782    </td><td>-1.846383e-16</td><td> 1           </td><td>-0.6412176   </td><td> 2.704633    </td></tr>\n",
       "\t<tr><td>CHAS         </td><td>  0.06916996 </td><td>  0.2539940  </td><td> 3.3957993   </td><td>12.531453    </td><td>-3.544441e-18</td><td>1            </td><td> 3.3957993   </td><td>12.531453    </td><td>          NaN</td><td>NA           </td><td>       NaN   </td><td>      NaN    </td></tr>\n",
       "\t<tr><td>NOX          </td><td>  0.55469506 </td><td>  0.1158777  </td><td> 0.7271442   </td><td> 2.924136    </td><td>-2.150022e-16</td><td>1            </td><td> 0.7271442   </td><td> 2.924136    </td><td> 1.620027e-16</td><td> 1           </td><td> 0.3567181   </td><td> 2.267447    </td></tr>\n",
       "\t<tr><td>RM           </td><td>  6.28463439 </td><td>  0.7026171  </td><td> 0.4024147   </td><td> 4.861027    </td><td>-1.056462e-16</td><td>1            </td><td> 0.4024147   </td><td> 4.861027    </td><td> 2.610215e-16</td><td> 1           </td><td>-0.2937892   </td><td> 5.695175    </td></tr>\n",
       "\t<tr><td>AGE          </td><td> 68.57490119 </td><td> 28.1488614  </td><td>-0.5971856   </td><td> 2.029986    </td><td>-1.643357e-16</td><td>1            </td><td>-0.5971856   </td><td> 2.029986    </td><td>-3.868450e-16</td><td> 1           </td><td>-1.6706836   </td><td> 5.907332    </td></tr>\n",
       "\t<tr><td>DIS          </td><td>  3.79504269 </td><td>  2.1057101  </td><td> 1.0087788   </td><td> 3.471299    </td><td> 1.153079e-16</td><td>1            </td><td> 1.0087788   </td><td> 3.471299    </td><td>-1.836978e-17</td><td> 1           </td><td> 0.1522770   </td><td> 2.011675    </td></tr>\n",
       "\t<tr><td>RAD          </td><td>  9.54940711 </td><td>  8.7072594  </td><td> 1.0018335   </td><td> 2.129479    </td><td> 4.799652e-17</td><td>1            </td><td> 1.0018335   </td><td> 2.129479    </td><td>-8.751697e-17</td><td> 1           </td><td> 0.2857667   </td><td> 2.364345    </td></tr>\n",
       "\t<tr><td>TAX          </td><td>408.23715415 </td><td>168.5371161  </td><td> 0.6679683   </td><td> 1.857015    </td><td> 2.024415e-17</td><td>1            </td><td> 0.6679683   </td><td> 1.857015    </td><td>-6.326300e-16</td><td> 1           </td><td> 0.3295759   </td><td> 1.828057    </td></tr>\n",
       "\t<tr><td>PTRATIO      </td><td> 18.45553360 </td><td>  2.1649455  </td><td>-0.7999445   </td><td> 2.705884    </td><td>-3.924246e-16</td><td>1            </td><td>-0.7999445   </td><td> 2.705884    </td><td> 6.760455e-16</td><td> 1           </td><td>-1.0126120   </td><td> 3.225867    </td></tr>\n",
       "\t<tr><td>B            </td><td>356.67403162 </td><td> 91.2948644  </td><td>-2.8817983   </td><td>10.143769    </td><td>-1.151679e-16</td><td>1            </td><td>-2.8817983   </td><td>10.143769    </td><td> 7.763209e-17</td><td> 1           </td><td>-4.8126772   </td><td>29.451535    </td></tr>\n",
       "\t<tr><td>LSTAT        </td><td> 12.65306324 </td><td>  7.1410615  </td><td> 0.9037707   </td><td> 3.476545    </td><td>-7.052778e-17</td><td>1            </td><td> 0.9037707   </td><td> 3.476545    </td><td> 2.796652e-16</td><td> 1           </td><td>-0.3192823   </td><td> 2.560941    </td></tr>\n",
       "\t<tr><td>MEDV         </td><td> 22.53280632 </td><td>  9.1971041  </td><td> 1.1048108   </td><td> 4.468629    </td><td>-1.374631e-16</td><td>1            </td><td> 1.1048108   </td><td> 4.468629    </td><td> 4.028450e-16</td><td> 1           </td><td>-0.3293413   </td><td> 3.787600    </td></tr>\n",
       "</tbody>\n",
       "</table>\n"
      ],
      "text/latex": [
       "\\begin{tabular}{r|lllllllllllll}\n",
       " feature & mean & sd & skewness & kurtosis & mean\\_scaled & sd\\_scaled & skewness\\_scaled & kurtosis\\_scaled & mean\\_log & sd\\_log & skewness\\_log & kurtosis\\_log\\\\\n",
       "\\hline\n",
       "\t CRIM          &   3.61352356  &   8.6015451   &  5.2076524    & 39.752786     & -7.202981e-18 & 1             &  5.2076524    & 39.752786     &  2.108923e-17 &  1            &  0.4047301    &  1.988418    \\\\\n",
       "\t ZN            &  11.36363636  &  23.3224530   &  2.2190631    &  6.979949     &  2.282481e-17 & 1             &  2.2190631    &  6.979949     &           NaN & NA            &        NaN    &       NaN    \\\\\n",
       "\t INDUS         &  11.13677866  &   6.8603529   &  0.2941463    &  1.766782     &  1.595296e-17 & 1             &  0.2941463    &  1.766782     & -1.846383e-16 &  1            & -0.6412176    &  2.704633    \\\\\n",
       "\t CHAS          &   0.06916996  &   0.2539940   &  3.3957993    & 12.531453     & -3.544441e-18 & 1             &  3.3957993    & 12.531453     &           NaN & NA            &        NaN    &       NaN    \\\\\n",
       "\t NOX           &   0.55469506  &   0.1158777   &  0.7271442    &  2.924136     & -2.150022e-16 & 1             &  0.7271442    &  2.924136     &  1.620027e-16 &  1            &  0.3567181    &  2.267447    \\\\\n",
       "\t RM            &   6.28463439  &   0.7026171   &  0.4024147    &  4.861027     & -1.056462e-16 & 1             &  0.4024147    &  4.861027     &  2.610215e-16 &  1            & -0.2937892    &  5.695175    \\\\\n",
       "\t AGE           &  68.57490119  &  28.1488614   & -0.5971856    &  2.029986     & -1.643357e-16 & 1             & -0.5971856    &  2.029986     & -3.868450e-16 &  1            & -1.6706836    &  5.907332    \\\\\n",
       "\t DIS           &   3.79504269  &   2.1057101   &  1.0087788    &  3.471299     &  1.153079e-16 & 1             &  1.0087788    &  3.471299     & -1.836978e-17 &  1            &  0.1522770    &  2.011675    \\\\\n",
       "\t RAD           &   9.54940711  &   8.7072594   &  1.0018335    &  2.129479     &  4.799652e-17 & 1             &  1.0018335    &  2.129479     & -8.751697e-17 &  1            &  0.2857667    &  2.364345    \\\\\n",
       "\t TAX           & 408.23715415  & 168.5371161   &  0.6679683    &  1.857015     &  2.024415e-17 & 1             &  0.6679683    &  1.857015     & -6.326300e-16 &  1            &  0.3295759    &  1.828057    \\\\\n",
       "\t PTRATIO       &  18.45553360  &   2.1649455   & -0.7999445    &  2.705884     & -3.924246e-16 & 1             & -0.7999445    &  2.705884     &  6.760455e-16 &  1            & -1.0126120    &  3.225867    \\\\\n",
       "\t B             & 356.67403162  &  91.2948644   & -2.8817983    & 10.143769     & -1.151679e-16 & 1             & -2.8817983    & 10.143769     &  7.763209e-17 &  1            & -4.8126772    & 29.451535    \\\\\n",
       "\t LSTAT         &  12.65306324  &   7.1410615   &  0.9037707    &  3.476545     & -7.052778e-17 & 1             &  0.9037707    &  3.476545     &  2.796652e-16 &  1            & -0.3192823    &  2.560941    \\\\\n",
       "\t MEDV          &  22.53280632  &   9.1971041   &  1.1048108    &  4.468629     & -1.374631e-16 & 1             &  1.1048108    &  4.468629     &  4.028450e-16 &  1            & -0.3293413    &  3.787600    \\\\\n",
       "\\end{tabular}\n"
      ],
      "text/markdown": [
       "\n",
       "feature | mean | sd | skewness | kurtosis | mean_scaled | sd_scaled | skewness_scaled | kurtosis_scaled | mean_log | sd_log | skewness_log | kurtosis_log | \n",
       "|---|---|---|---|---|---|---|---|---|---|---|---|---|---|\n",
       "| CRIM          |   3.61352356  |   8.6015451   |  5.2076524    | 39.752786     | -7.202981e-18 | 1             |  5.2076524    | 39.752786     |  2.108923e-17 |  1            |  0.4047301    |  1.988418     | \n",
       "| ZN            |  11.36363636  |  23.3224530   |  2.2190631    |  6.979949     |  2.282481e-17 | 1             |  2.2190631    |  6.979949     |           NaN | NA            |        NaN    |       NaN     | \n",
       "| INDUS         |  11.13677866  |   6.8603529   |  0.2941463    |  1.766782     |  1.595296e-17 | 1             |  0.2941463    |  1.766782     | -1.846383e-16 |  1            | -0.6412176    |  2.704633     | \n",
       "| CHAS          |   0.06916996  |   0.2539940   |  3.3957993    | 12.531453     | -3.544441e-18 | 1             |  3.3957993    | 12.531453     |           NaN | NA            |        NaN    |       NaN     | \n",
       "| NOX           |   0.55469506  |   0.1158777   |  0.7271442    |  2.924136     | -2.150022e-16 | 1             |  0.7271442    |  2.924136     |  1.620027e-16 |  1            |  0.3567181    |  2.267447     | \n",
       "| RM            |   6.28463439  |   0.7026171   |  0.4024147    |  4.861027     | -1.056462e-16 | 1             |  0.4024147    |  4.861027     |  2.610215e-16 |  1            | -0.2937892    |  5.695175     | \n",
       "| AGE           |  68.57490119  |  28.1488614   | -0.5971856    |  2.029986     | -1.643357e-16 | 1             | -0.5971856    |  2.029986     | -3.868450e-16 |  1            | -1.6706836    |  5.907332     | \n",
       "| DIS           |   3.79504269  |   2.1057101   |  1.0087788    |  3.471299     |  1.153079e-16 | 1             |  1.0087788    |  3.471299     | -1.836978e-17 |  1            |  0.1522770    |  2.011675     | \n",
       "| RAD           |   9.54940711  |   8.7072594   |  1.0018335    |  2.129479     |  4.799652e-17 | 1             |  1.0018335    |  2.129479     | -8.751697e-17 |  1            |  0.2857667    |  2.364345     | \n",
       "| TAX           | 408.23715415  | 168.5371161   |  0.6679683    |  1.857015     |  2.024415e-17 | 1             |  0.6679683    |  1.857015     | -6.326300e-16 |  1            |  0.3295759    |  1.828057     | \n",
       "| PTRATIO       |  18.45553360  |   2.1649455   | -0.7999445    |  2.705884     | -3.924246e-16 | 1             | -0.7999445    |  2.705884     |  6.760455e-16 |  1            | -1.0126120    |  3.225867     | \n",
       "| B             | 356.67403162  |  91.2948644   | -2.8817983    | 10.143769     | -1.151679e-16 | 1             | -2.8817983    | 10.143769     |  7.763209e-17 |  1            | -4.8126772    | 29.451535     | \n",
       "| LSTAT         |  12.65306324  |   7.1410615   |  0.9037707    |  3.476545     | -7.052778e-17 | 1             |  0.9037707    |  3.476545     |  2.796652e-16 |  1            | -0.3192823    |  2.560941     | \n",
       "| MEDV          |  22.53280632  |   9.1971041   |  1.1048108    |  4.468629     | -1.374631e-16 | 1             |  1.1048108    |  4.468629     |  4.028450e-16 |  1            | -0.3293413    |  3.787600     | \n",
       "\n",
       "\n"
      ],
      "text/plain": [
       "   feature mean         sd          skewness   kurtosis  mean_scaled  \n",
       "1  CRIM      3.61352356   8.6015451  5.2076524 39.752786 -7.202981e-18\n",
       "2  ZN       11.36363636  23.3224530  2.2190631  6.979949  2.282481e-17\n",
       "3  INDUS    11.13677866   6.8603529  0.2941463  1.766782  1.595296e-17\n",
       "4  CHAS      0.06916996   0.2539940  3.3957993 12.531453 -3.544441e-18\n",
       "5  NOX       0.55469506   0.1158777  0.7271442  2.924136 -2.150022e-16\n",
       "6  RM        6.28463439   0.7026171  0.4024147  4.861027 -1.056462e-16\n",
       "7  AGE      68.57490119  28.1488614 -0.5971856  2.029986 -1.643357e-16\n",
       "8  DIS       3.79504269   2.1057101  1.0087788  3.471299  1.153079e-16\n",
       "9  RAD       9.54940711   8.7072594  1.0018335  2.129479  4.799652e-17\n",
       "10 TAX     408.23715415 168.5371161  0.6679683  1.857015  2.024415e-17\n",
       "11 PTRATIO  18.45553360   2.1649455 -0.7999445  2.705884 -3.924246e-16\n",
       "12 B       356.67403162  91.2948644 -2.8817983 10.143769 -1.151679e-16\n",
       "13 LSTAT    12.65306324   7.1410615  0.9037707  3.476545 -7.052778e-17\n",
       "14 MEDV     22.53280632   9.1971041  1.1048108  4.468629 -1.374631e-16\n",
       "   sd_scaled skewness_scaled kurtosis_scaled mean_log      sd_log skewness_log\n",
       "1  1          5.2076524      39.752786        2.108923e-17  1      0.4047301  \n",
       "2  1          2.2190631       6.979949                 NaN NA            NaN  \n",
       "3  1          0.2941463       1.766782       -1.846383e-16  1     -0.6412176  \n",
       "4  1          3.3957993      12.531453                 NaN NA            NaN  \n",
       "5  1          0.7271442       2.924136        1.620027e-16  1      0.3567181  \n",
       "6  1          0.4024147       4.861027        2.610215e-16  1     -0.2937892  \n",
       "7  1         -0.5971856       2.029986       -3.868450e-16  1     -1.6706836  \n",
       "8  1          1.0087788       3.471299       -1.836978e-17  1      0.1522770  \n",
       "9  1          1.0018335       2.129479       -8.751697e-17  1      0.2857667  \n",
       "10 1          0.6679683       1.857015       -6.326300e-16  1      0.3295759  \n",
       "11 1         -0.7999445       2.705884        6.760455e-16  1     -1.0126120  \n",
       "12 1         -2.8817983      10.143769        7.763209e-17  1     -4.8126772  \n",
       "13 1          0.9037707       3.476545        2.796652e-16  1     -0.3192823  \n",
       "14 1          1.1048108       4.468629        4.028450e-16  1     -0.3293413  \n",
       "   kurtosis_log\n",
       "1   1.988418   \n",
       "2        NaN   \n",
       "3   2.704633   \n",
       "4        NaN   \n",
       "5   2.267447   \n",
       "6   5.695175   \n",
       "7   5.907332   \n",
       "8   2.011675   \n",
       "9   2.364345   \n",
       "10  1.828057   \n",
       "11  3.225867   \n",
       "12 29.451535   \n",
       "13  2.560941   \n",
       "14  3.787600   "
      ]
     },
     "metadata": {},
     "output_type": "display_data"
    }
   ],
   "source": [
    "detach(bostonScaled)\n",
    "bostonLog <- data.frame(scale(log(boston)))\n",
    "bostonStats['mean_log'] <- sapply(bostonLog, mean)\n",
    "bostonStats['sd_log'] = sapply(bostonLog, sd)\n",
    "bostonStats['skewness_log'] <- sapply(bostonLog, skewness)\n",
    "bostonStats['kurtosis_log'] <- sapply(bostonLog, kurtosis)\n",
    "bostonStats"
   ]
  },
  {
   "cell_type": "code",
   "execution_count": 98,
   "metadata": {
    "collapsed": false,
    "scrolled": false
   },
   "outputs": [
    {
     "name": "stderr",
     "output_type": "stream",
     "text": [
      "The following objects are masked from bostonScaled (pos = 3):\n",
      "\n",
      "    AGE, B, CHAS, CRIM, DIS, INDUS, LSTAT, MEDV, NOX, PTRATIO, RAD, RM,\n",
      "    TAX, ZN\n",
      "\n",
      "The following objects are masked from bostonScaled (pos = 4):\n",
      "\n",
      "    AGE, B, CHAS, CRIM, DIS, INDUS, LSTAT, MEDV, NOX, PTRATIO, RAD, RM,\n",
      "    TAX, ZN\n",
      "\n",
      "The following objects are masked from boston (pos = 5):\n",
      "\n",
      "    AGE, B, CHAS, CRIM, DIS, INDUS, LSTAT, MEDV, NOX, PTRATIO, RAD, RM,\n",
      "    TAX, ZN\n",
      "\n",
      "The following objects are masked from boston (pos = 6):\n",
      "\n",
      "    AGE, B, CHAS, CRIM, DIS, INDUS, LSTAT, MEDV, NOX, PTRATIO, RAD, RM,\n",
      "    TAX, ZN\n",
      "\n",
      "The following objects are masked from boston (pos = 7):\n",
      "\n",
      "    AGE, B, CHAS, CRIM, DIS, INDUS, LSTAT, MEDV, NOX, PTRATIO, RAD, RM,\n",
      "    TAX, ZN\n",
      "\n"
     ]
    },
    {
     "data": {
      "image/png": "[encoded data removed]",
      "text/plain": [
       "plot without title"
      ]
     },
     "metadata": {},
     "output_type": "display_data"
    },
    {
     "data": {
      "image/png": "[encoded data removed]",
      "text/plain": [
       "plot without title"
      ]
     },
     "metadata": {},
     "output_type": "display_data"
    },
    {
     "data": {
      "image/png": "[encoded data removed]",
      "text/plain": [
       "plot without title"
      ]
     },
     "metadata": {},
     "output_type": "display_data"
    },
    {
     "data": {
      "image/png": "[encoded data removed]",
      "text/plain": [
       "plot without title"
      ]
     },
     "metadata": {},
     "output_type": "display_data"
    },
    {
     "data": {
      "image/png": "[encoded data removed]",
      "text/plain": [
       "plot without title"
      ]
     },
     "metadata": {},
     "output_type": "display_data"
    },
    {
     "data": {
      "image/png": "[encoded data removed]",
      "text/plain": [
       "plot without title"
      ]
     },
     "metadata": {},
     "output_type": "display_data"
    },
    {
     "data": {
      "image/png": "[encoded data removed]",
      "text/plain": [
       "plot without title"
      ]
     },
     "metadata": {},
     "output_type": "display_data"
    }
   ],
   "source": [
    "attach(bostonLog)\n",
    "special_plot2(CRIM, ZN)\n",
    "special_plot2(INDUS, CHAS)\n",
    "special_plot2(NOX, RM)\n",
    "special_plot2(AGE, DIS)\n",
    "special_plot2(RAD, TAX)\n",
    "special_plot2(PTRATIO, B)\n",
    "special_plot2(LSTAT, MEDV)"
   ]
  },
  {
   "cell_type": "markdown",
   "metadata": {},
   "source": [
    "From the plots, reduced skewness is shown by how much closer the mean and median are to one another. "
   ]
  }
 ],
 "metadata": {
  "kernelspec": {
   "display_name": "R",
   "language": "R",
   "name": "ir"
  },
  "language_info": {
   "codemirror_mode": "r",
   "file_extension": ".r",
   "mimetype": "text/x-r-source",
   "name": "R",
   "pygments_lexer": "r",
   "version": "3.3.2"
  }
 },
 "nbformat": 4,
 "nbformat_minor": 0
}
